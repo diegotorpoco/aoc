{
 "cells": [
  {
   "cell_type": "code",
   "execution_count": 21,
   "metadata": {},
   "outputs": [],
   "source": [
    "from inputs_day1 import input"
   ]
  },
  {
   "cell_type": "code",
   "execution_count": 9,
   "metadata": {},
   "outputs": [
    {
     "data": {
      "text/plain": [
       "['1', '2', '3', '4', 'g', 'r', 'g']"
      ]
     },
     "execution_count": 9,
     "metadata": {},
     "output_type": "execute_result"
    }
   ],
   "source": [
    "test_string = \"1234grg\"\n",
    "lista = ','.join(test_string).split(\",\")\n",
    "lista"
   ]
  },
  {
   "cell_type": "code",
   "execution_count": 13,
   "metadata": {},
   "outputs": [],
   "source": [
    "digits = [str(value) for value in range(0,10)]\n",
    "digits_letter = [\"one\",\"two\",\"three\",\"four\",\"five\",\"six\",\"seven\",\"eigth\",\"nine\"]\n",
    "test_string = \"two\"\n",
    "digits_list = []\n",
    "calibration_values = []\n",
    "\n",
    "for i,letter in enumerate(test_string):\n",
    "    if letter in digits:\n",
    "        digits_list.append(letter)\n",
    "    for index, value in enumerate(digits_letter):\n",
    "        if test_string[i:].startswith(value):\n",
    "            digits_list.append(str(index+1))\n",
    "if len(digits_list) == 1:\n",
    "    calibration_values.append(int(digits_list[0]+digits_list[0]))\n",
    "if len(digits_list) >1:\n",
    "    calibration_values.append(int(digits_list[0]+digits_list[-1]))\n",
    "    digits_list = []\n",
    "sum_calibration_values = sum(calibration_values)\n",
    "        "
   ]
  },
  {
   "cell_type": "code",
   "execution_count": 31,
   "metadata": {},
   "outputs": [],
   "source": [
    "def calibration_sum(calibration):\n",
    "    \n",
    "    digits = [str(value) for value in range(0,10)]\n",
    "    digits_letter = [\"one\",\"two\",\"three\",\"four\",\"five\",\"six\",\"seven\",\"eight\",\"nine\"]\n",
    "    digits_list = []\n",
    "    calibration_values = [] \n",
    "\n",
    "    wrong_calibration_list = calibration.split(\"\\n\")\n",
    "    \n",
    "    for wrong_cal in wrong_calibration_list:\n",
    "        # separated_wrong_cal = ','.join(wrong_cal).split(',')\n",
    "        for i,letter in enumerate(wrong_cal):\n",
    "            if letter in digits:\n",
    "                # print(\"digit found: \",letter)\n",
    "                digits_list.append(letter)\n",
    "            for index,value in enumerate(digits_letter):\n",
    "                if wrong_cal[i:].startswith(value):\n",
    "                    # print(\"letter found: \",value)\n",
    "                    digits_list.append(str(index+1))\n",
    "        if len(digits_list) == 1:\n",
    "            calibration_values.append(int(digits_list[0]+digits_list[0]))\n",
    "        if len(digits_list) > 1:\n",
    "            calibration_values.append(int(digits_list[0]+digits_list[-1]))\n",
    "        digits_list = []\n",
    "\n",
    "    sum_calibration_values = sum(calibration_values)       \n",
    "\n",
    "    return sum_calibration_values     \n",
    "        "
   ]
  },
  {
   "cell_type": "code",
   "execution_count": 32,
   "metadata": {},
   "outputs": [
    {
     "data": {
      "text/plain": [
       "53868"
      ]
     },
     "execution_count": 32,
     "metadata": {},
     "output_type": "execute_result"
    }
   ],
   "source": [
    "test = \"\"\"\n",
    "24\n",
    "two3eight\n",
    "\"\"\"\n",
    "calibration_sum(input)"
   ]
  },
  {
   "cell_type": "code",
   "execution_count": null,
   "metadata": {},
   "outputs": [],
   "source": []
  }
 ],
 "metadata": {
  "kernelspec": {
   "display_name": "Python 3",
   "language": "python",
   "name": "python3"
  },
  "language_info": {
   "codemirror_mode": {
    "name": "ipython",
    "version": 3
   },
   "file_extension": ".py",
   "mimetype": "text/x-python",
   "name": "python",
   "nbconvert_exporter": "python",
   "pygments_lexer": "ipython3",
   "version": "3.8.10"
  }
 },
 "nbformat": 4,
 "nbformat_minor": 2
}
