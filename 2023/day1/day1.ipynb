{
 "cells": [
  {
   "cell_type": "code",
   "execution_count": 1,
   "metadata": {},
   "outputs": [],
   "source": [
    "from inputs_day1 import input"
   ]
  },
  {
   "cell_type": "code",
   "execution_count": 24,
   "metadata": {},
   "outputs": [],
   "source": [
    "digits = [str(value) for value in range(0,10)]\n",
    "test_string = \"1234grg\"\n",
    "lista = ','.join(test_string).split(\",\")\n",
    "digits_list = []\n",
    "calibration_values = []\n",
    "for letter in lista:\n",
    "    if letter in digits:\n",
    "        digits_list.append(letter)\n",
    "if len(digits_list) >1:\n",
    "    calibration_values.append(int(digits_list[0]+digits_list[-1]))\n",
    "    digits_list = []\n",
    "sum_calibration_values = sum(calibration_values)\n",
    "        "
   ]
  },
  {
   "cell_type": "code",
   "execution_count": 38,
   "metadata": {},
   "outputs": [],
   "source": [
    "def calibration_sum(calibration):\n",
    "    \n",
    "    digits = [str(value) for value in range(0,10)]\n",
    "    digits_list = []\n",
    "    calibration_values = [] \n",
    "\n",
    "    wrong_calibration_list = calibration.split(\"\\n\")\n",
    "    \n",
    "    for wrong_cal in wrong_calibration_list:\n",
    "        separated_wrong_cal = ','.join(wrong_cal).split(',')\n",
    "        for letter in separated_wrong_cal:\n",
    "            if letter in digits:\n",
    "                digits_list.append(letter)\n",
    "        if len(digits_list) == 1:\n",
    "            calibration_values.append(int(digits_list[0]+digits_list[0]))\n",
    "        if len(digits_list) > 1:\n",
    "            calibration_values.append(int(digits_list[0]+digits_list[-1]))\n",
    "        digits_list = []\n",
    "\n",
    "    sum_calibration_values = sum(calibration_values)       \n",
    "\n",
    "    return sum_calibration_values     \n",
    "        "
   ]
  },
  {
   "cell_type": "code",
   "execution_count": 39,
   "metadata": {},
   "outputs": [
    {
     "data": {
      "text/plain": [
       "54953"
      ]
     },
     "execution_count": 39,
     "metadata": {},
     "output_type": "execute_result"
    }
   ],
   "source": [
    "calibration_sum(input)"
   ]
  },
  {
   "cell_type": "code",
   "execution_count": null,
   "metadata": {},
   "outputs": [],
   "source": []
  }
 ],
 "metadata": {
  "kernelspec": {
   "display_name": "Python 3",
   "language": "python",
   "name": "python3"
  },
  "language_info": {
   "codemirror_mode": {
    "name": "ipython",
    "version": 3
   },
   "file_extension": ".py",
   "mimetype": "text/x-python",
   "name": "python",
   "nbconvert_exporter": "python",
   "pygments_lexer": "ipython3",
   "version": "3.9.6"
  }
 },
 "nbformat": 4,
 "nbformat_minor": 2
}
